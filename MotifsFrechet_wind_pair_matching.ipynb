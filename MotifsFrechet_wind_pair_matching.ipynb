{
 "cells": [
  {
   "cell_type": "code",
   "execution_count": 1,
   "metadata": {
    "execution": {
     "iopub.execute_input": "2023-06-21T16:11:52.768986Z",
     "iopub.status.busy": "2023-06-21T16:11:52.768739Z",
     "iopub.status.idle": "2023-06-21T16:11:53.093484Z",
     "shell.execute_reply": "2023-06-21T16:11:53.092980Z"
    },
    "papermill": {
     "duration": 0.33379,
     "end_time": "2023-06-21T16:11:53.095067",
     "exception": false,
     "start_time": "2023-06-21T16:11:52.761277",
     "status": "completed"
    },
    "tags": []
   },
   "outputs": [],
   "source": [
    "import pandas as pd\n",
    "import random\n",
    "import numpy as np\n",
    "import time\n",
    "from tqdm.notebook import tqdm\n",
    "from matplotlib import pyplot as plt\n",
    "import struct\n",
    "from bisect import bisect_left, bisect_right\n"
   ]
  },
  {
   "cell_type": "code",
   "execution_count": 2,
   "metadata": {
    "execution": {
     "iopub.execute_input": "2023-06-21T16:11:53.104936Z",
     "iopub.status.busy": "2023-06-21T16:11:53.104742Z",
     "iopub.status.idle": "2023-06-21T16:11:53.108023Z",
     "shell.execute_reply": "2023-06-21T16:11:53.107556Z"
    },
    "papermill": {
     "duration": 0.008585,
     "end_time": "2023-06-21T16:11:53.108991",
     "exception": false,
     "start_time": "2023-06-21T16:11:53.100406",
     "status": "completed"
    },
    "tags": []
   },
   "outputs": [],
   "source": [
    "import sys\n",
    "sys.path.append('/home/ipsarros/FrechetMotifs-master/bin/')\n",
    "import subann"
   ]
  },
  {
   "cell_type": "code",
   "execution_count": null,
   "metadata": {
    "execution": {
     "iopub.execute_input": "2023-06-21T16:11:53.116890Z",
     "iopub.status.busy": "2023-06-21T16:11:53.116755Z",
     "iopub.status.idle": "2023-06-21T16:11:53.118753Z",
     "shell.execute_reply": "2023-06-21T16:11:53.118297Z"
    },
    "papermill": {
     "duration": 0.007749,
     "end_time": "2023-06-21T16:11:53.119615",
     "exception": false,
     "start_time": "2023-06-21T16:11:53.111866",
     "status": "completed"
    },
    "tags": []
   },
   "outputs": [],
   "source": []
  },
  {
   "cell_type": "code",
   "execution_count": null,
   "metadata": {
    "execution": {
     "iopub.execute_input": "2023-06-21T16:11:53.125151Z",
     "iopub.status.busy": "2023-06-21T16:11:53.125020Z",
     "iopub.status.idle": "2023-06-21T16:11:53.127183Z",
     "shell.execute_reply": "2023-06-21T16:11:53.126730Z"
    },
    "papermill": {
     "duration": 0.005844,
     "end_time": "2023-06-21T16:11:53.127948",
     "exception": false,
     "start_time": "2023-06-21T16:11:53.122104",
     "status": "completed"
    },
    "tags": []
   },
   "outputs": [],
   "source": []
  },
  {
   "cell_type": "code",
   "execution_count": null,
   "metadata": {
    "papermill": {
     "duration": 0.002417,
     "end_time": "2023-06-21T16:11:53.132828",
     "exception": false,
     "start_time": "2023-06-21T16:11:53.130411",
     "status": "completed"
    },
    "tags": []
   },
   "outputs": [],
   "source": []
  },
  {
   "cell_type": "code",
   "execution_count": 3,
   "metadata": {
    "execution": {
     "iopub.execute_input": "2023-06-21T16:11:53.138260Z",
     "iopub.status.busy": "2023-06-21T16:11:53.138127Z",
     "iopub.status.idle": "2023-06-21T16:11:53.143707Z",
     "shell.execute_reply": "2023-06-21T16:11:53.143228Z"
    },
    "papermill": {
     "duration": 0.009319,
     "end_time": "2023-06-21T16:11:53.144596",
     "exception": false,
     "start_time": "2023-06-21T16:11:53.135277",
     "status": "completed"
    },
    "tags": []
   },
   "outputs": [],
   "source": [
    "import pyarrow as pa\n",
    "from pyarrow.flight import Location\n",
    "#leviathan.imsi.athenarc.gr 9999\n",
    "modelarUrl = \"leviathan.imsi.athenarc.gr\"\n",
    "modelarPort = 9999\n",
    "\n",
    "# create a Location for gRPC insecure connection\n",
    "#location = Location.for_grpc_insecure(modelarUrl, modelarPort)\n",
    "location = Location.for_grpc_tcp(modelarUrl, modelarPort)\n",
    "\n",
    "# create a FlightClient with the location and RootAllocator\n",
    "flightClient = pa.flight.FlightClient(location=location)\n"
   ]
  },
  {
   "cell_type": "code",
   "execution_count": 4,
   "metadata": {
    "execution": {
     "iopub.execute_input": "2023-06-21T16:11:53.152193Z",
     "iopub.status.busy": "2023-06-21T16:11:53.152059Z",
     "iopub.status.idle": "2023-06-21T16:11:55.012394Z",
     "shell.execute_reply": "2023-06-21T16:11:55.011667Z"
    },
    "papermill": {
     "duration": 1.866976,
     "end_time": "2023-06-21T16:11:55.014198",
     "exception": false,
     "start_time": "2023-06-21T16:11:53.147222",
     "status": "completed"
    },
    "tags": []
   },
   "outputs": [
    {
     "name": "stdout",
     "output_type": "stream",
     "text": [
      "0.2769763469696045\n"
     ]
    }
   ],
   "source": [
    "# inds = [7] #error = 0\n",
    "# inds = [8] #error = 1%\n",
    "# inds = [9] #error = 5%\n",
    "# inds = [10] #error = 10%\n",
    "# inds = [12] #error = 20%\n",
    "inds = [13] #error = 40%\n",
    "\n",
    " \n",
    "\n",
    "tables = []\n",
    "for i in inds:\n",
    "    sql = \"SELECT * FROM segment WHERE tid =\" + str(i) \n",
    "    #sql = \"SELECT * FROM datapoint WHERE tid =\" + str(i) \n",
    "    start_t = time.time()\n",
    "    ticket = pa.flight.Ticket(sql.encode())\n",
    "    stream = flightClient.do_get(ticket)\n",
    "    tables.append(stream.read_pandas())\n",
    "    print(time.time()-start_t)"
   ]
  },
  {
   "cell_type": "markdown",
   "metadata": {
    "papermill": {
     "duration": 0.003977,
     "end_time": "2023-06-21T16:11:55.023520",
     "exception": false,
     "start_time": "2023-06-21T16:11:55.019543",
     "status": "completed"
    },
    "tags": []
   },
   "source": [
    "Probe modelar:"
   ]
  },
  {
   "cell_type": "code",
   "execution_count": 5,
   "metadata": {
    "execution": {
     "iopub.execute_input": "2023-06-21T16:11:55.030738Z",
     "iopub.status.busy": "2023-06-21T16:11:55.030500Z",
     "iopub.status.idle": "2023-06-21T16:11:55.044054Z",
     "shell.execute_reply": "2023-06-21T16:11:55.043705Z"
    },
    "papermill": {
     "duration": 0.018421,
     "end_time": "2023-06-21T16:11:55.045546",
     "exception": false,
     "start_time": "2023-06-21T16:11:55.027125",
     "status": "completed"
    },
    "tags": []
   },
   "outputs": [
    {
     "data": {
      "text/html": [
       "<div>\n",
       "<style scoped>\n",
       "    .dataframe tbody tr th:only-of-type {\n",
       "        vertical-align: middle;\n",
       "    }\n",
       "\n",
       "    .dataframe tbody tr th {\n",
       "        vertical-align: top;\n",
       "    }\n",
       "\n",
       "    .dataframe thead th {\n",
       "        text-align: right;\n",
       "    }\n",
       "</style>\n",
       "<table border=\"1\" class=\"dataframe\">\n",
       "  <thead>\n",
       "    <tr style=\"text-align: right;\">\n",
       "      <th></th>\n",
       "      <th>TID</th>\n",
       "      <th>START_TIME</th>\n",
       "      <th>END_TIME</th>\n",
       "      <th>MTID</th>\n",
       "      <th>MODEL</th>\n",
       "      <th>OFFSETS</th>\n",
       "    </tr>\n",
       "  </thead>\n",
       "  <tbody>\n",
       "    <tr>\n",
       "      <th>0</th>\n",
       "      <td>13</td>\n",
       "      <td>2018-05-22 23:10:00</td>\n",
       "      <td>2018-05-23 01:00:00</td>\n",
       "      <td>3</td>\n",
       "      <td>b'&gt;\\xda\\x93\\x99\\x80n\\xac\\x1a\\xc1btte\\x10\\x9e\\x8b'</td>\n",
       "      <td>b'\\x00\\x00\\x00\\x01\\x00\\x00\\x00\\x01\\x00\\x00\\x00...</td>\n",
       "    </tr>\n",
       "    <tr>\n",
       "      <th>1</th>\n",
       "      <td>13</td>\n",
       "      <td>2018-05-23 01:10:00</td>\n",
       "      <td>2018-05-23 01:50:00</td>\n",
       "      <td>3</td>\n",
       "      <td>b'&gt;\\xfd\\x87Ui\\x1f\\xe8E\\xc1\\x84\\x81P\\x80\\xf0\\xc4!'</td>\n",
       "      <td>b'\\x00\\x00\\x00\\x01\\x00\\x00\\x00\\x01\\x00\\x00\\x00...</td>\n",
       "    </tr>\n",
       "    <tr>\n",
       "      <th>2</th>\n",
       "      <td>13</td>\n",
       "      <td>2018-05-23 02:00:00</td>\n",
       "      <td>2018-05-23 03:50:00</td>\n",
       "      <td>3</td>\n",
       "      <td>b'&gt;\\xf0\\xac\\xeeb\\xeb\\xf2\\xec\\xc1w(\\xd2\\x8a1[~'</td>\n",
       "      <td>b'\\x00\\x00\\x00\\x01\\x00\\x00\\x00\\x01\\x00\\x00\\x00...</td>\n",
       "    </tr>\n",
       "    <tr>\n",
       "      <th>3</th>\n",
       "      <td>13</td>\n",
       "      <td>2018-05-23 04:00:00</td>\n",
       "      <td>2018-05-23 04:30:00</td>\n",
       "      <td>2</td>\n",
       "      <td>b'C\\x0f\\xf5\\xc3'</td>\n",
       "      <td>b'\\x00\\x00\\x00\\x01\\x00\\x00\\x00\\x01\\x00\\x00\\x00...</td>\n",
       "    </tr>\n",
       "    <tr>\n",
       "      <th>4</th>\n",
       "      <td>13</td>\n",
       "      <td>2018-05-23 04:40:00</td>\n",
       "      <td>2018-05-23 05:30:00</td>\n",
       "      <td>2</td>\n",
       "      <td>b'B|\\xb8R'</td>\n",
       "      <td>b'\\x00\\x00\\x00\\x01\\x00\\x00\\x00\\x01\\x00\\x00\\x00...</td>\n",
       "    </tr>\n",
       "    <tr>\n",
       "      <th>...</th>\n",
       "      <td>...</td>\n",
       "      <td>...</td>\n",
       "      <td>...</td>\n",
       "      <td>...</td>\n",
       "      <td>...</td>\n",
       "      <td>...</td>\n",
       "    </tr>\n",
       "    <tr>\n",
       "      <th>8065</th>\n",
       "      <td>13</td>\n",
       "      <td>2019-12-31 18:50:00</td>\n",
       "      <td>2019-12-31 20:30:00</td>\n",
       "      <td>3</td>\n",
       "      <td>b'&gt;\\xe0\\x9f\\xdcOI\\x86=\\xc1g\\xdb\\x1b\\xf9\\xb7u\\x12'</td>\n",
       "      <td>b'\\x00\\x00\\x00\\x01\\x00\\x00\\x00\\x01\\x00\\x00\\x00...</td>\n",
       "    </tr>\n",
       "    <tr>\n",
       "      <th>8066</th>\n",
       "      <td>13</td>\n",
       "      <td>2019-12-31 20:40:00</td>\n",
       "      <td>2019-12-31 21:00:00</td>\n",
       "      <td>2</td>\n",
       "      <td>b'C\\x17\\xba\\xe1'</td>\n",
       "      <td>b'\\x00\\x00\\x00\\x01\\x00\\x00\\x00\\x01\\x00\\x00\\x00...</td>\n",
       "    </tr>\n",
       "    <tr>\n",
       "      <th>8067</th>\n",
       "      <td>13</td>\n",
       "      <td>2019-12-31 21:10:00</td>\n",
       "      <td>2019-12-31 21:30:00</td>\n",
       "      <td>2</td>\n",
       "      <td>b'BB\\x9d\\x04'</td>\n",
       "      <td>b'\\x00\\x00\\x00\\x01\\x00\\x00\\x00\\x01\\x00\\x00\\x00...</td>\n",
       "    </tr>\n",
       "    <tr>\n",
       "      <th>8068</th>\n",
       "      <td>13</td>\n",
       "      <td>2019-12-31 21:40:00</td>\n",
       "      <td>2019-12-31 23:00:00</td>\n",
       "      <td>3</td>\n",
       "      <td>b'&gt;\\xfbI&amp;X\\x96P\\xfa\\xc1\\x83\\x93\\xea\\xa4\\xdbY\\xf0'</td>\n",
       "      <td>b'\\x00\\x00\\x00\\x01\\x00\\x00\\x00\\x01\\x00\\x00\\x00...</td>\n",
       "    </tr>\n",
       "    <tr>\n",
       "      <th>8069</th>\n",
       "      <td>13</td>\n",
       "      <td>2019-12-31 23:10:00</td>\n",
       "      <td>2019-12-31 23:50:00</td>\n",
       "      <td>2</td>\n",
       "      <td>b'\\xbf\\x99\\x16\\x87'</td>\n",
       "      <td>b'\\x00\\x00\\x00\\x01\\x00\\x00\\x00\\x01\\x00\\x00\\x00...</td>\n",
       "    </tr>\n",
       "  </tbody>\n",
       "</table>\n",
       "<p>8070 rows × 6 columns</p>\n",
       "</div>"
      ],
      "text/plain": [
       "      TID          START_TIME            END_TIME  MTID  \\\n",
       "0      13 2018-05-22 23:10:00 2018-05-23 01:00:00     3   \n",
       "1      13 2018-05-23 01:10:00 2018-05-23 01:50:00     3   \n",
       "2      13 2018-05-23 02:00:00 2018-05-23 03:50:00     3   \n",
       "3      13 2018-05-23 04:00:00 2018-05-23 04:30:00     2   \n",
       "4      13 2018-05-23 04:40:00 2018-05-23 05:30:00     2   \n",
       "...   ...                 ...                 ...   ...   \n",
       "8065   13 2019-12-31 18:50:00 2019-12-31 20:30:00     3   \n",
       "8066   13 2019-12-31 20:40:00 2019-12-31 21:00:00     2   \n",
       "8067   13 2019-12-31 21:10:00 2019-12-31 21:30:00     2   \n",
       "8068   13 2019-12-31 21:40:00 2019-12-31 23:00:00     3   \n",
       "8069   13 2019-12-31 23:10:00 2019-12-31 23:50:00     2   \n",
       "\n",
       "                                                  MODEL  \\\n",
       "0     b'>\\xda\\x93\\x99\\x80n\\xac\\x1a\\xc1btte\\x10\\x9e\\x8b'   \n",
       "1     b'>\\xfd\\x87Ui\\x1f\\xe8E\\xc1\\x84\\x81P\\x80\\xf0\\xc4!'   \n",
       "2        b'>\\xf0\\xac\\xeeb\\xeb\\xf2\\xec\\xc1w(\\xd2\\x8a1[~'   \n",
       "3                                      b'C\\x0f\\xf5\\xc3'   \n",
       "4                                            b'B|\\xb8R'   \n",
       "...                                                 ...   \n",
       "8065  b'>\\xe0\\x9f\\xdcOI\\x86=\\xc1g\\xdb\\x1b\\xf9\\xb7u\\x12'   \n",
       "8066                                   b'C\\x17\\xba\\xe1'   \n",
       "8067                                      b'BB\\x9d\\x04'   \n",
       "8068  b'>\\xfbI&X\\x96P\\xfa\\xc1\\x83\\x93\\xea\\xa4\\xdbY\\xf0'   \n",
       "8069                                b'\\xbf\\x99\\x16\\x87'   \n",
       "\n",
       "                                                OFFSETS  \n",
       "0     b'\\x00\\x00\\x00\\x01\\x00\\x00\\x00\\x01\\x00\\x00\\x00...  \n",
       "1     b'\\x00\\x00\\x00\\x01\\x00\\x00\\x00\\x01\\x00\\x00\\x00...  \n",
       "2     b'\\x00\\x00\\x00\\x01\\x00\\x00\\x00\\x01\\x00\\x00\\x00...  \n",
       "3     b'\\x00\\x00\\x00\\x01\\x00\\x00\\x00\\x01\\x00\\x00\\x00...  \n",
       "4     b'\\x00\\x00\\x00\\x01\\x00\\x00\\x00\\x01\\x00\\x00\\x00...  \n",
       "...                                                 ...  \n",
       "8065  b'\\x00\\x00\\x00\\x01\\x00\\x00\\x00\\x01\\x00\\x00\\x00...  \n",
       "8066  b'\\x00\\x00\\x00\\x01\\x00\\x00\\x00\\x01\\x00\\x00\\x00...  \n",
       "8067  b'\\x00\\x00\\x00\\x01\\x00\\x00\\x00\\x01\\x00\\x00\\x00...  \n",
       "8068  b'\\x00\\x00\\x00\\x01\\x00\\x00\\x00\\x01\\x00\\x00\\x00...  \n",
       "8069  b'\\x00\\x00\\x00\\x01\\x00\\x00\\x00\\x01\\x00\\x00\\x00...  \n",
       "\n",
       "[8070 rows x 6 columns]"
      ]
     },
     "execution_count": 5,
     "metadata": {},
     "output_type": "execute_result"
    }
   ],
   "source": [
    "tables[0]"
   ]
  },
  {
   "cell_type": "markdown",
   "metadata": {
    "papermill": {
     "duration": 0.004315,
     "end_time": "2023-06-21T16:11:55.056306",
     "exception": false,
     "start_time": "2023-06-21T16:11:55.051991",
     "status": "completed"
    },
    "tags": []
   },
   "source": [
    "Extract models:"
   ]
  },
  {
   "cell_type": "code",
   "execution_count": 6,
   "metadata": {
    "execution": {
     "iopub.execute_input": "2023-06-21T16:11:55.062816Z",
     "iopub.status.busy": "2023-06-21T16:11:55.062568Z",
     "iopub.status.idle": "2023-06-21T16:11:59.402978Z",
     "shell.execute_reply": "2023-06-21T16:11:59.402540Z"
    },
    "papermill": {
     "duration": 4.345738,
     "end_time": "2023-06-21T16:11:59.404794",
     "exception": false,
     "start_time": "2023-06-21T16:11:55.059056",
     "status": "completed"
    },
    "tags": []
   },
   "outputs": [],
   "source": [
    "series = []\n",
    "for table in tables:\n",
    "    values = []\n",
    "    index = []\n",
    "    for i in range(len(table)):        \n",
    "        model = table.loc[i].MODEL\n",
    "        if table.loc[i].MTID == 2:\n",
    "            index.append(pd.Timestamp(table.loc[i].START_TIME))\n",
    "            index.append(pd.Timestamp(table.loc[i].END_TIME))\n",
    "            a = struct.unpack('>f', model)[0]\n",
    "            values.append(a)\n",
    "            values.append(a)\n",
    "        elif table.loc[i].MTID == 3:\n",
    "            index.append(pd.Timestamp(table.loc[i].START_TIME))\n",
    "            index.append(pd.Timestamp(table.loc[i].END_TIME))\n",
    "            if len(model)== 8:\n",
    "                a,b = struct.unpack('>ff', model)\n",
    "            elif len(model) == 16:    \n",
    "                a,b = struct.unpack('>dd', model)\n",
    "            x = pd.Timestamp(table.loc[i].START_TIME).timestamp()*1000\n",
    "            values.append(a*x+b)\n",
    "            y = pd.Timestamp(table.loc[i].END_TIME).timestamp()*1000\n",
    "            values.append(a*y+b)\n",
    "        elif table.loc[i].MTID == 1:    \n",
    "            #5 min granularity index between pd.Timestamp(table.loc[i].START_TIME)\n",
    "            #pd.Timestamp(table.loc[i].END_TIME)\n",
    "            datetime_index = pd.date_range(start=pd.Timestamp(table.loc[i].START_TIME), end=pd.Timestamp(table.loc[i].END_TIME), freq='10T')\n",
    "            #print(len(datetime_index))\n",
    "            if len(datetime_index) != int(len(model)/4): \n",
    "                print(f' {len(datetime_index)} vs {int(len(model)/4)}')\n",
    "                print(datetime_index)\n",
    "                print(table.loc[i].START_TIME)\n",
    "                print(table.loc[i].END_TIME)\n",
    "\n",
    " \n",
    "\n",
    "            index.extend(datetime_index)\n",
    "            #print(len(model))\n",
    "            format_string = '>{}f'.format(int(len(model)/4))\n",
    "            unpacked_data = struct.unpack(format_string, model)#[0]\n",
    "            for a in unpacked_data:\n",
    "                values.append(a)\n",
    "                #values.append(a)\n",
    "        else:\n",
    "            print('Something is wrong')\n",
    "    series.append(pd.Series(values, index=index))   "
   ]
  },
  {
   "cell_type": "code",
   "execution_count": null,
   "metadata": {
    "execution": {
     "iopub.execute_input": "2023-06-21T16:11:59.417220Z",
     "iopub.status.busy": "2023-06-21T16:11:59.416993Z",
     "iopub.status.idle": "2023-06-21T16:11:59.421820Z",
     "shell.execute_reply": "2023-06-21T16:11:59.421421Z"
    },
    "papermill": {
     "duration": 0.01093,
     "end_time": "2023-06-21T16:11:59.422690",
     "exception": false,
     "start_time": "2023-06-21T16:11:59.411760",
     "status": "completed"
    },
    "tags": []
   },
   "outputs": [],
   "source": []
  },
  {
   "cell_type": "code",
   "execution_count": null,
   "metadata": {},
   "outputs": [],
   "source": []
  },
  {
   "cell_type": "code",
   "execution_count": null,
   "metadata": {
    "execution": {
     "iopub.execute_input": "2023-06-21T16:11:59.433410Z",
     "iopub.status.busy": "2023-06-21T16:11:59.433220Z",
     "iopub.status.idle": "2023-06-21T16:11:59.435248Z",
     "shell.execute_reply": "2023-06-21T16:11:59.434879Z"
    },
    "papermill": {
     "duration": 0.008444,
     "end_time": "2023-06-21T16:11:59.436075",
     "exception": false,
     "start_time": "2023-06-21T16:11:59.427631",
     "status": "completed"
    },
    "tags": []
   },
   "outputs": [],
   "source": []
  },
  {
   "cell_type": "code",
   "execution_count": null,
   "metadata": {
    "papermill": {
     "duration": 0.002853,
     "end_time": "2023-06-21T16:11:59.441752",
     "exception": false,
     "start_time": "2023-06-21T16:11:59.438899",
     "status": "completed"
    },
    "tags": []
   },
   "outputs": [],
   "source": []
  },
  {
   "cell_type": "markdown",
   "metadata": {
    "papermill": {
     "duration": 0.002803,
     "end_time": "2023-06-21T16:11:59.447404",
     "exception": false,
     "start_time": "2023-06-21T16:11:59.444601",
     "status": "completed"
    },
    "tags": []
   },
   "source": [
    "Read original input time series (the one ingested to modelar)"
   ]
  },
  {
   "cell_type": "code",
   "execution_count": 7,
   "metadata": {
    "execution": {
     "iopub.execute_input": "2023-06-21T16:11:59.453913Z",
     "iopub.status.busy": "2023-06-21T16:11:59.453696Z",
     "iopub.status.idle": "2023-06-21T16:11:59.495948Z",
     "shell.execute_reply": "2023-06-21T16:11:59.495444Z"
    },
    "papermill": {
     "duration": 0.047074,
     "end_time": "2023-06-21T16:11:59.497346",
     "exception": false,
     "start_time": "2023-06-21T16:11:59.450272",
     "status": "completed"
    },
    "tags": []
   },
   "outputs": [],
   "source": [
    "original_signal = pd.read_csv('/data/data2/panos/Mod_BBZ1.csv',index_col='date')['ActivePower_avg'] #['2018-06-02':'2019-01-11']\n",
    "\n",
    "original_signal.index = pd.to_datetime(original_signal.index)\n",
    "original_signal=original_signal['2018-06-02':'2019-01-11']\n"
   ]
  },
  {
   "cell_type": "markdown",
   "metadata": {
    "papermill": {
     "duration": 0.004725,
     "end_time": "2023-06-21T16:11:59.508068",
     "exception": false,
     "start_time": "2023-06-21T16:11:59.503343",
     "status": "completed"
    },
    "tags": []
   },
   "source": [
    "Read \"groundtruth\" signal: in this case soiling derate."
   ]
  },
  {
   "cell_type": "code",
   "execution_count": 8,
   "metadata": {
    "execution": {
     "iopub.execute_input": "2023-06-21T16:11:59.514678Z",
     "iopub.status.busy": "2023-06-21T16:11:59.514452Z",
     "iopub.status.idle": "2023-06-21T16:11:59.546038Z",
     "shell.execute_reply": "2023-06-21T16:11:59.545548Z"
    },
    "papermill": {
     "duration": 0.036569,
     "end_time": "2023-06-21T16:11:59.547456",
     "exception": false,
     "start_time": "2023-06-21T16:11:59.510887",
     "status": "completed"
    },
    "tags": []
   },
   "outputs": [],
   "source": [
    "groundtruth = pd.read_csv('/data/data2/panos/ground.csv',index_col='date')\n",
    "groundtruth.index = pd.to_datetime(groundtruth.y.index)\n",
    "groundtruth=groundtruth['2018-06-02':'2019-01-11']\n",
    "groundtruth.y=groundtruth.y.fillna(0)\n"
   ]
  },
  {
   "cell_type": "code",
   "execution_count": null,
   "metadata": {
    "papermill": {
     "duration": 0.003199,
     "end_time": "2023-06-21T16:11:59.557264",
     "exception": false,
     "start_time": "2023-06-21T16:11:59.554065",
     "status": "completed"
    },
    "tags": []
   },
   "outputs": [],
   "source": []
  },
  {
   "cell_type": "markdown",
   "metadata": {
    "papermill": {
     "duration": 0.003025,
     "end_time": "2023-06-21T16:11:59.563248",
     "exception": false,
     "start_time": "2023-06-21T16:11:59.560223",
     "status": "completed"
    },
    "tags": []
   },
   "source": [
    "Select random queries. Each query corresponds to an entire day."
   ]
  },
  {
   "cell_type": "code",
   "execution_count": 9,
   "metadata": {
    "execution": {
     "iopub.execute_input": "2023-06-21T16:11:59.570189Z",
     "iopub.status.busy": "2023-06-21T16:11:59.569967Z",
     "iopub.status.idle": "2023-06-21T16:11:59.926218Z",
     "shell.execute_reply": "2023-06-21T16:11:59.925758Z"
    },
    "papermill": {
     "duration": 0.362037,
     "end_time": "2023-06-21T16:11:59.928267",
     "exception": false,
     "start_time": "2023-06-21T16:11:59.566230",
     "status": "completed"
    },
    "tags": []
   },
   "outputs": [
    {
     "data": {
      "image/png": "[encoded data removed]",
      "text/plain": [
       "<Figure size 1152x720 with 1 Axes>"
      ]
     },
     "metadata": {
      "needs_background": "light"
     },
     "output_type": "display_data"
    },
    {
     "name": "stdout",
     "output_type": "stream",
     "text": [
      "0.2597777843475342\n"
     ]
    }
   ],
   "source": [
    "w = 0.2 #10 days\n",
    "query_set = []\n",
    "start_t = time.time()\n",
    "signal = series[0]\n",
    "start = signal.index[0]\n",
    "end = signal.index[-1]\n",
    "fig = plt.figure(figsize=(16,10))\n",
    "# Add a plot to the figure\n",
    "ax = fig.add_subplot(111)\n",
    "ax.plot(signal)\n",
    "#to for thelei allagi logw derate\n",
    "for ti in random.choices(groundtruth.index, k=100):\n",
    "    #ti = ti.replace(hour=0, minute=0, second=0)\n",
    "    a = bisect_left(signal.index, ti)\n",
    "    b = bisect_left(signal.index, ti+pd.Timedelta(days = w))\n",
    "    if a > 0:\n",
    "        edge_a = signal.iloc[a-1:a+1]\n",
    "        slope_a = (edge_a.values[1]-edge_a.values[0])/(edge_a.index[1].timestamp()-edge_a.index[0].timestamp())\n",
    "        intercept_a = edge_a.values[0] - slope_a*edge_a.index[0].timestamp()\n",
    "        y_a = slope_a*(ti).timestamp()+intercept_a \n",
    "        \n",
    "    else:\n",
    "        y_a = signal.values[a]\n",
    "    if b < len(signal)-1:    \n",
    "        edge_b = signal.iloc[b-1:b+1]\n",
    "        slope_b = (edge_b.values[1]-edge_b.values[0])/(edge_b.index[1].timestamp()-edge_b.index[0].timestamp())\n",
    "        intercept_b = edge_b.values[0] - slope_b*edge_b.index[0].timestamp()\n",
    "        y_b = slope_b*(ti+pd.Timedelta(days = w)).timestamp()+intercept_b\n",
    "    else:\n",
    "        y_b = signal.values[-1]\n",
    "\n",
    "    query = np.concatenate(([y_a], signal.iloc[a:b], [y_b]))\n",
    "    \n",
    "    index = np.concatenate((pd.DatetimeIndex([ti]), signal.index[a:b].to_numpy(), pd.DatetimeIndex([ti+pd.Timedelta(days = w)])))\n",
    "    ax.plot(pd.Series(query, index = index),alpha =0.5,color ='red')\n",
    "    query_set.append(query)\n",
    "plt.show()\n",
    "\n",
    "print(time.time()-start_t)    \n"
   ]
  },
  {
   "cell_type": "code",
   "execution_count": 10,
   "metadata": {},
   "outputs": [
    {
     "data": {
      "text/plain": [
       "9"
      ]
     },
     "execution_count": 10,
     "metadata": {},
     "output_type": "execute_result"
    }
   ],
   "source": [
    "int(np.floor(np.mean([len(q) for q in query_set])))"
   ]
  },
  {
   "cell_type": "markdown",
   "metadata": {
    "papermill": {
     "duration": 0.003747,
     "end_time": "2023-06-21T16:11:59.940437",
     "exception": false,
     "start_time": "2023-06-21T16:11:59.936690",
     "status": "completed"
    },
    "tags": []
   },
   "source": [
    "First attempt for preprocessing to verify that the parameters induce a good partitioning of the data."
   ]
  },
  {
   "cell_type": "code",
   "execution_count": 11,
   "metadata": {
    "execution": {
     "iopub.execute_input": "2023-06-21T16:11:59.948910Z",
     "iopub.status.busy": "2023-06-21T16:11:59.948680Z",
     "iopub.status.idle": "2023-06-21T16:12:00.087662Z",
     "shell.execute_reply": "2023-06-21T16:12:00.087184Z"
    },
    "papermill": {
     "duration": 0.144875,
     "end_time": "2023-06-21T16:12:00.089026",
     "exception": false,
     "start_time": "2023-06-21T16:11:59.944151",
     "status": "completed"
    },
    "tags": []
   },
   "outputs": [
    {
     "name": "stdout",
     "output_type": "stream",
     "text": [
      "Preprocessing time: 0.12027573585510254\n",
      "None\n",
      "Number of keys stored: 29\n",
      "Total number of subsequences stored: 16137\n",
      "Average number of subsequences per key: 556.448\n",
      "Maximum bucket size: 8304\n"
     ]
    }
   ],
   "source": [
    "answers = {}\n",
    "times = {}\n",
    "for i, signal in enumerate(series):\n",
    "    R = 5000\n",
    "    m = int(np.floor(np.mean([len(q) for q in query_set])))#50 #600*6*24\n",
    "    N = 1\n",
    "    olagiaola=dict()\n",
    "    for W in range(100,200,100):\n",
    "        start_t = time.time()\n",
    "        ts = subann.TimeSeries([[x] for x in signal.values], [int(t.timestamp()-signal.index[0].timestamp()) for t in signal.index])\n",
    "        DS = subann.SubAnnDS(ts, W, R, m, False)\n",
    "        print(f'Preprocessing time: {time.time()-start_t}')\n",
    "        print(DS.stats())"
   ]
  },
  {
   "cell_type": "code",
   "execution_count": 12,
   "metadata": {
    "execution": {
     "iopub.execute_input": "2023-06-21T16:12:00.102345Z",
     "iopub.status.busy": "2023-06-21T16:12:00.102232Z",
     "iopub.status.idle": "2023-06-21T16:12:00.105510Z",
     "shell.execute_reply": "2023-06-21T16:12:00.104895Z"
    },
    "papermill": {
     "duration": 0.009362,
     "end_time": "2023-06-21T16:12:00.106420",
     "exception": false,
     "start_time": "2023-06-21T16:12:00.097058",
     "status": "completed"
    },
    "tags": []
   },
   "outputs": [
    {
     "data": {
      "text/plain": [
       "2018-05-22 23:10:00    110.940002\n",
       "2018-05-23 01:00:00    152.759885\n",
       "2018-05-23 01:10:00     87.970001\n",
       "2018-05-23 01:50:00    155.555711\n",
       "2018-05-23 02:00:00     85.379997\n",
       "                          ...    \n",
       "2019-12-31 21:30:00     48.653336\n",
       "2019-12-31 21:40:00    173.619995\n",
       "2019-12-31 23:00:00    298.524207\n",
       "2019-12-31 23:10:00     -1.196000\n",
       "2019-12-31 23:50:00     -1.196000\n",
       "Length: 16137, dtype: float64"
      ]
     },
     "execution_count": 12,
     "metadata": {},
     "output_type": "execute_result"
    }
   ],
   "source": [
    "signal"
   ]
  },
  {
   "cell_type": "code",
   "execution_count": 13,
   "metadata": {},
   "outputs": [
    {
     "data": {
      "text/plain": [
       "array([  72.05835849,   72.05835849,   30.59000014,  118.80016823,\n",
       "         45.56999968,  432.42642009,  200.66999817,  378.61570671,\n",
       "       1449.4855957 , 1449.4855957 ])"
      ]
     },
     "execution_count": 13,
     "metadata": {},
     "output_type": "execute_result"
    }
   ],
   "source": [
    "query_set[0]"
   ]
  },
  {
   "cell_type": "code",
   "execution_count": 14,
   "metadata": {},
   "outputs": [
    {
     "data": {
      "text/plain": [
       "9"
      ]
     },
     "execution_count": 14,
     "metadata": {},
     "output_type": "execute_result"
    }
   ],
   "source": [
    "m"
   ]
  },
  {
   "cell_type": "markdown",
   "metadata": {
    "papermill": {
     "duration": 0.005995,
     "end_time": "2023-06-21T16:12:00.118457",
     "exception": false,
     "start_time": "2023-06-21T16:12:00.112462",
     "status": "completed"
    },
    "tags": []
   },
   "source": [
    "Preprocessing and queries:"
   ]
  },
  {
   "cell_type": "code",
   "execution_count": 15,
   "metadata": {},
   "outputs": [],
   "source": [
    "#exact\n",
    "answs_ex = {}\n",
    "#for j, query in tqdm(enumerate(query_set)):\n",
    "m = 600*6*5\n",
    "signal = series[0]\n",
    "ts = subann.TimeSeries([[x] for x in signal.values], [int(t.timestamp()-signal.index[0].timestamp()) for t in signal.index])\n",
    "#DS = subann.SubAnnDS(ts, 0.005, R, m, True) #does not apply WF filtering, checks all windows of length <=m\n",
    "DS = subann.SubAnnDS(ts, 0, 200, m, False)  #does not apply WF filtering, checks all windows of length =m\n",
    "start_e = time.time()        \n",
    "for j, query in enumerate(query_set):\n",
    "    #print(j)\n",
    "    \n",
    "    q = subann.TimeSeries([[x] for x in query])\n",
    "    answs_ex[j] = [DS.exact_nn_query(q)]\n",
    "end_e=time.time()-start_e"
   ]
  },
  {
   "cell_type": "code",
   "execution_count": null,
   "metadata": {},
   "outputs": [],
   "source": []
  },
  {
   "cell_type": "code",
   "execution_count": 16,
   "metadata": {
    "papermill": {
     "duration": null,
     "end_time": null,
     "exception": false,
     "start_time": "2023-06-21T16:12:00.122291",
     "status": "running"
    },
    "scrolled": true,
    "tags": []
   },
   "outputs": [
    {
     "name": "stdout",
     "output_type": "stream",
     "text": [
      "10\n"
     ]
    },
    {
     "name": "stderr",
     "output_type": "stream",
     "text": [
      "100it [00:00, 426.57it/s]\n"
     ]
    },
    {
     "name": "stdout",
     "output_type": "stream",
     "text": [
      "0.07\n",
      "20\n"
     ]
    },
    {
     "name": "stderr",
     "output_type": "stream",
     "text": [
      "100it [00:00, 296.18it/s]\n"
     ]
    },
    {
     "name": "stdout",
     "output_type": "stream",
     "text": [
      "0.09\n",
      "30\n"
     ]
    },
    {
     "name": "stderr",
     "output_type": "stream",
     "text": [
      "100it [00:00, 330.13it/s]\n"
     ]
    },
    {
     "name": "stdout",
     "output_type": "stream",
     "text": [
      "0.08\n",
      "40\n"
     ]
    },
    {
     "name": "stderr",
     "output_type": "stream",
     "text": [
      "100it [00:00, 419.36it/s]\n"
     ]
    },
    {
     "name": "stdout",
     "output_type": "stream",
     "text": [
      "0.06\n",
      "50\n"
     ]
    },
    {
     "name": "stderr",
     "output_type": "stream",
     "text": [
      "100it [00:00, 247.03it/s]\n"
     ]
    },
    {
     "name": "stdout",
     "output_type": "stream",
     "text": [
      "0.11\n",
      "60\n"
     ]
    },
    {
     "name": "stderr",
     "output_type": "stream",
     "text": [
      "100it [00:00, 104.19it/s]\n"
     ]
    },
    {
     "name": "stdout",
     "output_type": "stream",
     "text": [
      "0.07\n",
      "70\n"
     ]
    },
    {
     "name": "stderr",
     "output_type": "stream",
     "text": [
      "100it [00:00, 197.14it/s]\n"
     ]
    },
    {
     "name": "stdout",
     "output_type": "stream",
     "text": [
      "0.16\n",
      "80\n"
     ]
    },
    {
     "name": "stderr",
     "output_type": "stream",
     "text": [
      "100it [00:00, 255.25it/s]\n"
     ]
    },
    {
     "name": "stdout",
     "output_type": "stream",
     "text": [
      "0.13\n",
      "90\n"
     ]
    },
    {
     "name": "stderr",
     "output_type": "stream",
     "text": [
      "100it [00:00, 221.03it/s]\n"
     ]
    },
    {
     "name": "stdout",
     "output_type": "stream",
     "text": [
      "0.14\n",
      "100\n"
     ]
    },
    {
     "name": "stderr",
     "output_type": "stream",
     "text": [
      "100it [00:01, 84.35it/s]\n"
     ]
    },
    {
     "name": "stdout",
     "output_type": "stream",
     "text": [
      "0.16\n",
      "110\n"
     ]
    },
    {
     "name": "stderr",
     "output_type": "stream",
     "text": [
      "100it [00:01, 63.59it/s]\n"
     ]
    },
    {
     "name": "stdout",
     "output_type": "stream",
     "text": [
      "0.24\n",
      "120\n"
     ]
    },
    {
     "name": "stderr",
     "output_type": "stream",
     "text": [
      "100it [00:00, 131.60it/s]\n"
     ]
    },
    {
     "name": "stdout",
     "output_type": "stream",
     "text": [
      "0.16\n",
      "130\n"
     ]
    },
    {
     "name": "stderr",
     "output_type": "stream",
     "text": [
      "100it [00:00, 228.06it/s]\n"
     ]
    },
    {
     "name": "stdout",
     "output_type": "stream",
     "text": [
      "0.15\n",
      "140\n"
     ]
    },
    {
     "name": "stderr",
     "output_type": "stream",
     "text": [
      "100it [00:00, 191.11it/s]\n"
     ]
    },
    {
     "name": "stdout",
     "output_type": "stream",
     "text": [
      "0.13\n",
      "150\n"
     ]
    },
    {
     "name": "stderr",
     "output_type": "stream",
     "text": [
      "100it [00:01, 78.51it/s]\n"
     ]
    },
    {
     "name": "stdout",
     "output_type": "stream",
     "text": [
      "0.19\n",
      "160\n"
     ]
    },
    {
     "name": "stderr",
     "output_type": "stream",
     "text": [
      "100it [00:00, 161.86it/s]\n"
     ]
    },
    {
     "name": "stdout",
     "output_type": "stream",
     "text": [
      "0.17\n",
      "170\n"
     ]
    },
    {
     "name": "stderr",
     "output_type": "stream",
     "text": [
      "100it [00:01, 88.26it/s]\n"
     ]
    },
    {
     "name": "stdout",
     "output_type": "stream",
     "text": [
      "0.19\n",
      "180\n"
     ]
    },
    {
     "name": "stderr",
     "output_type": "stream",
     "text": [
      "100it [00:02, 38.20it/s]\n"
     ]
    },
    {
     "name": "stdout",
     "output_type": "stream",
     "text": [
      "0.23\n",
      "190\n"
     ]
    },
    {
     "name": "stderr",
     "output_type": "stream",
     "text": [
      "100it [00:04, 24.29it/s]\n"
     ]
    },
    {
     "name": "stdout",
     "output_type": "stream",
     "text": [
      "0.32\n",
      "200\n"
     ]
    },
    {
     "name": "stderr",
     "output_type": "stream",
     "text": [
      "100it [00:04, 22.77it/s]\n"
     ]
    },
    {
     "name": "stdout",
     "output_type": "stream",
     "text": [
      "0.35\n",
      "210\n"
     ]
    },
    {
     "name": "stderr",
     "output_type": "stream",
     "text": [
      "100it [00:01, 85.48it/s]\n"
     ]
    },
    {
     "name": "stdout",
     "output_type": "stream",
     "text": [
      "0.19\n",
      "220\n"
     ]
    },
    {
     "name": "stderr",
     "output_type": "stream",
     "text": [
      "100it [00:02, 34.34it/s]\n"
     ]
    },
    {
     "name": "stdout",
     "output_type": "stream",
     "text": [
      "0.32\n",
      "230\n"
     ]
    },
    {
     "name": "stderr",
     "output_type": "stream",
     "text": [
      "100it [00:01, 62.19it/s]\n"
     ]
    },
    {
     "name": "stdout",
     "output_type": "stream",
     "text": [
      "0.3\n",
      "240\n"
     ]
    },
    {
     "name": "stderr",
     "output_type": "stream",
     "text": [
      "100it [00:04, 22.60it/s]\n"
     ]
    },
    {
     "name": "stdout",
     "output_type": "stream",
     "text": [
      "0.35\n",
      "250\n"
     ]
    },
    {
     "name": "stderr",
     "output_type": "stream",
     "text": [
      "100it [00:03, 30.47it/s]\n"
     ]
    },
    {
     "name": "stdout",
     "output_type": "stream",
     "text": [
      "0.35\n",
      "260\n"
     ]
    },
    {
     "name": "stderr",
     "output_type": "stream",
     "text": [
      "100it [00:04, 23.36it/s]\n"
     ]
    },
    {
     "name": "stdout",
     "output_type": "stream",
     "text": [
      "0.32\n",
      "270\n"
     ]
    },
    {
     "name": "stderr",
     "output_type": "stream",
     "text": [
      "100it [00:03, 26.22it/s]\n"
     ]
    },
    {
     "name": "stdout",
     "output_type": "stream",
     "text": [
      "0.33\n",
      "280\n"
     ]
    },
    {
     "name": "stderr",
     "output_type": "stream",
     "text": [
      "100it [00:00, 101.35it/s]\n"
     ]
    },
    {
     "name": "stdout",
     "output_type": "stream",
     "text": [
      "0.23\n",
      "290\n"
     ]
    },
    {
     "name": "stderr",
     "output_type": "stream",
     "text": [
      "100it [00:03, 27.80it/s]"
     ]
    },
    {
     "name": "stdout",
     "output_type": "stream",
     "text": [
      "0.38\n"
     ]
    },
    {
     "name": "stderr",
     "output_type": "stream",
     "text": [
      "\n"
     ]
    }
   ],
   "source": [
    "from tqdm import tqdm\n",
    "answers = {}\n",
    "times = {}\n",
    "# R = 0.000001\n",
    "# W = 50.001\n",
    "R = 1\n",
    "m = 600*6*5#5#*24\n",
    "N = 1\n",
    "olagiaola=dict()\n",
    "\n",
    "for W in range(10,300,10):\n",
    "    print(W)\n",
    "    av_r=[]\n",
    "    av_e=[]\n",
    "    frac_av=[]\n",
    "    ts = subann.TimeSeries([[x] for x in signal.values], [int(t.timestamp()-signal.index[0].timestamp()) for t in signal.index])\n",
    "    #DS = subann.SubAnnDS(ts, 0.005, R, m, True) #does not apply WF filtering, checks all windows of length <=m\n",
    "    DS = subann.SubAnnDS(ts, W, 200, m, False)  #does not apply WF filtering, checks all windows of length =m\n",
    "\n",
    "    for i, signal in (enumerate(series)):\n",
    "        q_answers = []\n",
    "        frac = []\n",
    "        times_r=[]\n",
    "        times_e=[]\n",
    "        n_ex = []\n",
    "        n_apprx = []\n",
    "        for j, query in tqdm(enumerate(query_set)):\n",
    "            q = subann.TimeSeries([[x] for x in query])\n",
    "            start_r = time.time()\n",
    "            answs = [DS.ann_query(q)]\n",
    "            answers[W,j] = answs             \n",
    "            end_r=time.time()-start_r\n",
    "            \n",
    "            frac.append(len(set(answs).intersection(set(answs_ex[j]))))\n",
    "            times_r.append(end_r)\n",
    "            times_e.append(end_e)\n",
    "            if len(answs) > 0: \n",
    "                q_answers.append(answs)\n",
    "        frac_av.append(frac)\n",
    "        print(np.mean(frac))\n",
    "        av_r.append(np.mean(times_r))\n",
    "        \n",
    "           \n",
    "        times[i] = time.time()-start_t\n",
    "    olagiaola[W]=[frac_av,av_r]\n"
   ]
  },
  {
   "cell_type": "code",
   "execution_count": 17,
   "metadata": {
    "scrolled": true
   },
   "outputs": [
    {
     "name": "stdout",
     "output_type": "stream",
     "text": [
      "10: 0.07\n",
      "time for approximate query 0.0023053860664367675\n",
      "20: 0.09\n",
      "time for approximate query 0.003358607292175293\n",
      "30: 0.08\n",
      "time for approximate query 0.0030132436752319334\n",
      "40: 0.06\n",
      "time for approximate query 0.002358701229095459\n",
      "50: 0.11\n",
      "time for approximate query 0.004022655487060547\n",
      "60: 0.07\n",
      "time for approximate query 0.009517364501953125\n",
      "70: 0.16\n",
      "time for approximate query 0.005032398700714111\n",
      "80: 0.13\n",
      "time for approximate query 0.0038976311683654786\n",
      "90: 0.14\n",
      "time for approximate query 0.004503035545349121\n",
      "100: 0.16\n",
      "time for approximate query 0.011806981563568115\n",
      "110: 0.24\n",
      "time for approximate query 0.01568703889846802\n",
      "120: 0.16\n",
      "time for approximate query 0.007566847801208496\n",
      "130: 0.15\n",
      "time for approximate query 0.004361400604248047\n",
      "140: 0.13\n",
      "time for approximate query 0.005174667835235596\n",
      "150: 0.19\n",
      "time for approximate query 0.012692255973815918\n",
      "160: 0.17\n",
      "time for approximate query 0.0061534690856933595\n",
      "170: 0.19\n",
      "time for approximate query 0.011244690418243409\n",
      "180: 0.23\n",
      "time for approximate query 0.02608725309371948\n",
      "190: 0.32\n",
      "time for approximate query 0.0409757137298584\n",
      "200: 0.35\n",
      "time for approximate query 0.0437318205833435\n",
      "210: 0.19\n",
      "time for approximate query 0.011592516899108887\n",
      "220: 0.32\n",
      "time for approximate query 0.029029698371887208\n",
      "230: 0.3\n",
      "time for approximate query 0.016028800010681153\n",
      "240: 0.35\n",
      "time for approximate query 0.044044034481048586\n",
      "250: 0.35\n",
      "time for approximate query 0.03271509885787964\n",
      "260: 0.32\n",
      "time for approximate query 0.04262176036834717\n",
      "270: 0.33\n",
      "time for approximate query 0.03796358585357666\n",
      "280: 0.23\n",
      "time for approximate query 0.009819352626800537\n",
      "290: 0.38\n",
      "time for approximate query 0.03586507081985474\n"
     ]
    }
   ],
   "source": [
    "mean_jacc = []\n",
    "appr_times = []\n",
    "ex_times = []\n",
    "for key in olagiaola.keys():\n",
    "    #print(f'{key}: {np.array(olagiaola[key][0])[np.array(olagiaola[key][0])!=-1]}')\n",
    "    print(f'{key}: {np.mean(np.array(olagiaola[key][0])[np.array(olagiaola[key][0])!=-1])}')\n",
    "    mean_jacc.append(np.mean(np.array(olagiaola[key][0])))\n",
    "    print(f'time for approximate query {olagiaola[key][1][0]}')\n",
    "    appr_times.append(olagiaola[key][1][0])                  \n",
    "    "
   ]
  },
  {
   "cell_type": "code",
   "execution_count": 18,
   "metadata": {},
   "outputs": [
    {
     "data": {
      "image/png": "[encoded data removed]",
      "text/plain": [
       "<Figure size 864x576 with 2 Axes>"
      ]
     },
     "metadata": {
      "needs_background": "light"
     },
     "output_type": "display_data"
    }
   ],
   "source": [
    "x_axis = range(10,300,10)\n",
    "fig, ax1 = plt.subplots(figsize=(12, 8))\n",
    "ax1.plot(x_axis, mean_jacc, label = 'success rate',color = 'blue', alpha = 0.6)\n",
    "ax1.set_ylabel('success rate')\n",
    "ax1.set_xlabel('W')\n",
    "#plt.legend()\n",
    "ax1.legend()\n",
    "ax2 = ax1.twinx()\n",
    "ex_times = [end_e/100]*len(appr_times)\n",
    "ax2.plot(x_axis, appr_times, color = 'green', alpha = 0.8, label = 'avg time for approximate query')\n",
    "ax2.plot(x_axis, ex_times, color = 'orange', alpha = 0.8, label = 'avg time for exact query')\n",
    "ax2.set_ylabel('seconds')\n",
    "ax2.legend(loc = 1)\n",
    "plt.show()"
   ]
  },
  {
   "cell_type": "code",
   "execution_count": null,
   "metadata": {
    "papermill": {
     "duration": null,
     "end_time": null,
     "exception": null,
     "start_time": null,
     "status": "pending"
    },
    "tags": []
   },
   "outputs": [],
   "source": []
  },
  {
   "cell_type": "code",
   "execution_count": null,
   "metadata": {},
   "outputs": [],
   "source": []
  },
  {
   "cell_type": "code",
   "execution_count": null,
   "metadata": {},
   "outputs": [],
   "source": []
  }
 ],
 "metadata": {
  "kernelspec": {
   "display_name": "Python 3 (ipykernel)",
   "language": "python",
   "name": "python3"
  },
  "language_info": {
   "codemirror_mode": {
    "name": "ipython",
    "version": 3
   },
   "file_extension": ".py",
   "mimetype": "text/x-python",
   "name": "python",
   "nbconvert_exporter": "python",
   "pygments_lexer": "ipython3",
   "version": "3.8.10"
  },
  "papermill": {
   "default_parameters": {},
   "duration": null,
   "end_time": null,
   "environment_variables": {},
   "exception": null,
   "input_path": "MotifsFrechet_bbz-modelar.ipynb",
   "output_path": "MotifsFrechet_bbz-modelar_run.ipynb",
   "parameters": {},
   "start_time": "2023-06-21T16:11:52.099566",
   "version": "2.4.0"
  }
 },
 "nbformat": 4,
 "nbformat_minor": 5
}
