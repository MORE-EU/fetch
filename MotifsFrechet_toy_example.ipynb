{
 "cells": [
  {
   "cell_type": "code",
   "execution_count": 1,
   "id": "37905bd1",
   "metadata": {},
   "outputs": [],
   "source": [
    "import time\n",
    "import sys\n",
    "sys.path.append('/home/ipsarros/FrechetMotifs-master/bin/')\n",
    "import subann"
   ]
  },
  {
   "cell_type": "markdown",
   "id": "d11a98b3",
   "metadata": {},
   "source": [
    "Input signal:"
   ]
  },
  {
   "cell_type": "code",
   "execution_count": 2,
   "id": "09299c82",
   "metadata": {},
   "outputs": [],
   "source": [
    "signal = [[1.0], [0.995], [1.0], [0.995], [1.0], [0.995], [1.0], [0.992], [1.0], [0.994], [1.0], [0.995], [1.0], [0.995], [1.0], [0.992], [0.995], [0.985], [0.99], [0.986], [1.0], [0.995], [1.0], [0.995], [1.0], [0.992], [0.994], [0.989], [0.993], [0.99], [1.0], [0.994], [1.0], [0.994], [1.0], [0.978], [0.98], [0.969], [0.973], [0.969], [0.971], [0.964], [0.986], [0.981], [1.0], [0.991], [1.0], [0.991], [1.0], [0.993], [1.0], [0.993], [1.0], [0.994], [1.0], [0.995], [1.0], [0.993], [1.0], [0.991], [1.0], [0.992], [1.0], [0.993], [1.0], [0.992], [1.0], [0.987], [1.0], [0.987], [1.0]]"
   ]
  },
  {
   "cell_type": "markdown",
   "id": "482f9a54",
   "metadata": {},
   "source": [
    "Select query:"
   ]
  },
  {
   "cell_type": "code",
   "execution_count": 3,
   "id": "96a3e02c",
   "metadata": {},
   "outputs": [],
   "source": [
    "query = [[1.0], [1.0], [1.0], [1.0], [0.9940000000000001], [1.0], [1.0], [1.0], [1.0], [1.0], [1.0], [1.0], [1.0], [1.0], [1.0], [1.0], [1.0], [1.0], [1.0], [1.0]]"
   ]
  },
  {
   "cell_type": "code",
   "execution_count": 4,
   "id": "e08c457d",
   "metadata": {},
   "outputs": [],
   "source": [
    "W = 0.01\n",
    "R = W\n",
    "ts = subann.TimeSeries(signal)\n",
    "DS = subann.SubAnnDS(ts, W, R)"
   ]
  },
  {
   "cell_type": "code",
   "execution_count": 5,
   "id": "b43acb0b",
   "metadata": {},
   "outputs": [
    {
     "name": "stdout",
     "output_type": "stream",
     "text": [
      "Number of keys stored: 637\n",
      "Average number of subsequences per key: 4.01256\n",
      "Maximum bucket size: 83\n"
     ]
    }
   ],
   "source": [
    "DS.stats()"
   ]
  },
  {
   "cell_type": "code",
   "execution_count": 6,
   "id": "f257e59f",
   "metadata": {},
   "outputs": [
    {
     "data": {
      "text/plain": [
       "0.015247344970703125"
      ]
     },
     "execution_count": 6,
     "metadata": {},
     "output_type": "execute_result"
    }
   ],
   "source": [
    "s1 = time.time()\n",
    "q = subann.TimeSeries(query)\n",
    "answers = DS.range_query(q,R)\n",
    "s2 = time.time()   \n",
    "s2-s1"
   ]
  },
  {
   "cell_type": "code",
   "execution_count": 7,
   "id": "068a69e9",
   "metadata": {},
   "outputs": [
    {
     "data": {
      "text/plain": [
       "[(0, 0),\n",
       " (0, 1),\n",
       " (0, 2),\n",
       " (0, 3),\n",
       " (0, 4),\n",
       " (0, 5),\n",
       " (0, 6),\n",
       " (1, 1),\n",
       " (1, 2),\n",
       " (1, 3),\n",
       " (1, 4),\n",
       " (1, 5),\n",
       " (1, 6),\n",
       " (2, 2),\n",
       " (2, 3),\n",
       " (2, 4),\n",
       " (2, 5),\n",
       " (2, 6),\n",
       " (3, 3),\n",
       " (3, 4),\n",
       " (3, 5),\n",
       " (3, 6),\n",
       " (4, 4),\n",
       " (4, 5),\n",
       " (4, 6),\n",
       " (5, 5),\n",
       " (5, 6),\n",
       " (6, 6),\n",
       " (8, 8),\n",
       " (10, 10),\n",
       " (10, 11),\n",
       " (10, 12),\n",
       " (10, 13),\n",
       " (10, 14),\n",
       " (11, 11),\n",
       " (11, 12),\n",
       " (11, 13),\n",
       " (11, 14),\n",
       " (12, 12),\n",
       " (12, 13),\n",
       " (12, 14),\n",
       " (13, 13),\n",
       " (13, 14),\n",
       " (14, 14),\n",
       " (16, 16),\n",
       " (20, 20),\n",
       " (20, 21),\n",
       " (20, 22),\n",
       " (20, 23),\n",
       " (20, 24),\n",
       " (21, 21),\n",
       " (21, 22),\n",
       " (21, 23),\n",
       " (21, 24),\n",
       " (22, 22),\n",
       " (22, 23),\n",
       " (22, 24),\n",
       " (23, 23),\n",
       " (23, 24),\n",
       " (24, 24),\n",
       " (30, 30),\n",
       " (32, 32),\n",
       " (34, 34),\n",
       " (44, 44),\n",
       " (46, 46),\n",
       " (48, 48),\n",
       " (50, 50),\n",
       " (52, 52),\n",
       " (54, 54),\n",
       " (54, 55),\n",
       " (54, 56),\n",
       " (55, 55),\n",
       " (55, 56),\n",
       " (56, 56),\n",
       " (58, 58),\n",
       " (60, 60),\n",
       " (62, 62),\n",
       " (64, 64),\n",
       " (66, 66),\n",
       " (68, 68),\n",
       " (70, 70)]"
      ]
     },
     "execution_count": 7,
     "metadata": {},
     "output_type": "execute_result"
    }
   ],
   "source": [
    "answers"
   ]
  },
  {
   "cell_type": "code",
   "execution_count": null,
   "id": "22a9ab22",
   "metadata": {},
   "outputs": [],
   "source": []
  }
 ],
 "metadata": {
  "kernelspec": {
   "display_name": "Python 3 (ipykernel)",
   "language": "python",
   "name": "python3"
  },
  "language_info": {
   "codemirror_mode": {
    "name": "ipython",
    "version": 3
   },
   "file_extension": ".py",
   "mimetype": "text/x-python",
   "name": "python",
   "nbconvert_exporter": "python",
   "pygments_lexer": "ipython3",
   "version": "3.8.10"
  }
 },
 "nbformat": 4,
 "nbformat_minor": 5
}
